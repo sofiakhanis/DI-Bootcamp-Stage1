{
 "cells": [
  {
   "cell_type": "code",
   "execution_count": 14,
   "id": "4187f9e2-5ac4-476f-9673-4cc1a19558da",
   "metadata": {},
   "outputs": [
    {
     "name": "stdout",
     "output_type": "stream",
     "text": [
      "   5.1  3.5  1.4  0.2  Iris-setosa\n",
      "0  4.9  3.0  1.4  0.2  Iris-setosa\n",
      "1  4.7  3.2  1.3  0.2  Iris-setosa\n",
      "2  4.6  3.1  1.5  0.2  Iris-setosa\n",
      "3  5.0  3.6  1.4  0.2  Iris-setosa\n",
      "4  5.4  3.9  1.7  0.4  Iris-setosa\n"
     ]
    }
   ],
   "source": [
    "import pandas as pd\n",
    "df = pd.read_csv ('/Users/sofahanis/Desktop/DI_Bootcamp/Week3/Day2/Iris_dataset.csv', )\n",
    "print (df.head())"
   ]
  },
  {
   "cell_type": "code",
   "execution_count": 19,
   "id": "986dd84b-ded6-4b0c-89a0-c0e27ed66b47",
   "metadata": {},
   "outputs": [
    {
     "data": {
      "text/html": [
       "<div>\n",
       "<style scoped>\n",
       "    .dataframe tbody tr th:only-of-type {\n",
       "        vertical-align: middle;\n",
       "    }\n",
       "\n",
       "    .dataframe tbody tr th {\n",
       "        vertical-align: top;\n",
       "    }\n",
       "\n",
       "    .dataframe thead th {\n",
       "        text-align: right;\n",
       "    }\n",
       "</style>\n",
       "<table border=\"1\" class=\"dataframe\">\n",
       "  <thead>\n",
       "    <tr style=\"text-align: right;\">\n",
       "      <th></th>\n",
       "      <th>0</th>\n",
       "      <th>1</th>\n",
       "      <th>2</th>\n",
       "      <th>3</th>\n",
       "      <th>4</th>\n",
       "    </tr>\n",
       "  </thead>\n",
       "  <tbody>\n",
       "    <tr>\n",
       "      <th>0</th>\n",
       "      <td>5.1</td>\n",
       "      <td>3.5</td>\n",
       "      <td>1.4</td>\n",
       "      <td>0.2</td>\n",
       "      <td>Iris-setosa</td>\n",
       "    </tr>\n",
       "    <tr>\n",
       "      <th>1</th>\n",
       "      <td>4.9</td>\n",
       "      <td>3.0</td>\n",
       "      <td>1.4</td>\n",
       "      <td>0.2</td>\n",
       "      <td>Iris-setosa</td>\n",
       "    </tr>\n",
       "    <tr>\n",
       "      <th>2</th>\n",
       "      <td>4.7</td>\n",
       "      <td>3.2</td>\n",
       "      <td>1.3</td>\n",
       "      <td>0.2</td>\n",
       "      <td>Iris-setosa</td>\n",
       "    </tr>\n",
       "    <tr>\n",
       "      <th>3</th>\n",
       "      <td>4.6</td>\n",
       "      <td>3.1</td>\n",
       "      <td>1.5</td>\n",
       "      <td>0.2</td>\n",
       "      <td>Iris-setosa</td>\n",
       "    </tr>\n",
       "    <tr>\n",
       "      <th>4</th>\n",
       "      <td>5.0</td>\n",
       "      <td>3.6</td>\n",
       "      <td>1.4</td>\n",
       "      <td>0.2</td>\n",
       "      <td>Iris-setosa</td>\n",
       "    </tr>\n",
       "  </tbody>\n",
       "</table>\n",
       "</div>"
      ],
      "text/plain": [
       "     0    1    2    3            4\n",
       "0  5.1  3.5  1.4  0.2  Iris-setosa\n",
       "1  4.9  3.0  1.4  0.2  Iris-setosa\n",
       "2  4.7  3.2  1.3  0.2  Iris-setosa\n",
       "3  4.6  3.1  1.5  0.2  Iris-setosa\n",
       "4  5.0  3.6  1.4  0.2  Iris-setosa"
      ]
     },
     "execution_count": 19,
     "metadata": {},
     "output_type": "execute_result"
    }
   ],
   "source": [
    "import pandas as pd\n",
    "df = pd.read_csv ('/Users/sofahanis/Desktop/DI_Bootcamp/Week3/Day2/Iris_dataset.csv', header = None)\n",
    "df.head()"
   ]
  },
  {
   "cell_type": "code",
   "execution_count": 17,
   "id": "3943f91b-0cf4-47cb-a34f-65ae0464bd45",
   "metadata": {},
   "outputs": [
    {
     "name": "stdout",
     "output_type": "stream",
     "text": [
      "Index(['sepal_length', 'sepal_width', 'petal_length', 'petal_width',\n",
      "       'species'],\n",
      "      dtype='object')\n"
     ]
    },
    {
     "data": {
      "text/html": [
       "<div>\n",
       "<style scoped>\n",
       "    .dataframe tbody tr th:only-of-type {\n",
       "        vertical-align: middle;\n",
       "    }\n",
       "\n",
       "    .dataframe tbody tr th {\n",
       "        vertical-align: top;\n",
       "    }\n",
       "\n",
       "    .dataframe thead th {\n",
       "        text-align: right;\n",
       "    }\n",
       "</style>\n",
       "<table border=\"1\" class=\"dataframe\">\n",
       "  <thead>\n",
       "    <tr style=\"text-align: right;\">\n",
       "      <th></th>\n",
       "      <th>sepal_length</th>\n",
       "      <th>sepal_width</th>\n",
       "      <th>petal_length</th>\n",
       "      <th>petal_width</th>\n",
       "      <th>species</th>\n",
       "    </tr>\n",
       "  </thead>\n",
       "  <tbody>\n",
       "    <tr>\n",
       "      <th>0</th>\n",
       "      <td>5.1</td>\n",
       "      <td>3.5</td>\n",
       "      <td>1.4</td>\n",
       "      <td>0.2</td>\n",
       "      <td>Iris-setosa</td>\n",
       "    </tr>\n",
       "    <tr>\n",
       "      <th>1</th>\n",
       "      <td>4.9</td>\n",
       "      <td>3.0</td>\n",
       "      <td>1.4</td>\n",
       "      <td>0.2</td>\n",
       "      <td>Iris-setosa</td>\n",
       "    </tr>\n",
       "    <tr>\n",
       "      <th>2</th>\n",
       "      <td>4.7</td>\n",
       "      <td>3.2</td>\n",
       "      <td>1.3</td>\n",
       "      <td>0.2</td>\n",
       "      <td>Iris-setosa</td>\n",
       "    </tr>\n",
       "    <tr>\n",
       "      <th>3</th>\n",
       "      <td>4.6</td>\n",
       "      <td>3.1</td>\n",
       "      <td>1.5</td>\n",
       "      <td>0.2</td>\n",
       "      <td>Iris-setosa</td>\n",
       "    </tr>\n",
       "    <tr>\n",
       "      <th>4</th>\n",
       "      <td>5.0</td>\n",
       "      <td>3.6</td>\n",
       "      <td>1.4</td>\n",
       "      <td>0.2</td>\n",
       "      <td>Iris-setosa</td>\n",
       "    </tr>\n",
       "  </tbody>\n",
       "</table>\n",
       "</div>"
      ],
      "text/plain": [
       "   sepal_length  sepal_width  petal_length  petal_width      species\n",
       "0           5.1          3.5           1.4          0.2  Iris-setosa\n",
       "1           4.9          3.0           1.4          0.2  Iris-setosa\n",
       "2           4.7          3.2           1.3          0.2  Iris-setosa\n",
       "3           4.6          3.1           1.5          0.2  Iris-setosa\n",
       "4           5.0          3.6           1.4          0.2  Iris-setosa"
      ]
     },
     "execution_count": 17,
     "metadata": {},
     "output_type": "execute_result"
    }
   ],
   "source": [
    "names = ['sepal_length', 'sepal_width', 'petal_length', 'petal_width', 'species']\n",
    "df = pd.read_csv('/Users/sofahanis/Desktop/DI_Bootcamp/Week3/Day2/Iris_dataset.csv', names = names)\n",
    "print(df.columns)\n",
    "df.head()"
   ]
  },
  {
   "cell_type": "code",
   "execution_count": 20,
   "id": "e75504c8-b434-41e3-b179-1798b57430f3",
   "metadata": {},
   "outputs": [
    {
     "name": "stdout",
     "output_type": "stream",
     "text": [
      "   userId  id                                              title  \\\n",
      "0       1   1  sunt aut facere repellat provident occaecati e...   \n",
      "1       1   2                                       qui est esse   \n",
      "2       1   3  ea molestias quasi exercitationem repellat qui...   \n",
      "3       1   4                               eum et est occaecati   \n",
      "4       1   5                                 nesciunt quas odio   \n",
      "\n",
      "                                                body  \n",
      "0  quia et suscipit\\nsuscipit recusandae consequu...  \n",
      "1  est rerum tempore vitae\\nsequi sint nihil repr...  \n",
      "2  et iusto sed quo iure\\nvoluptatem occaecati om...  \n",
      "3  ullam et saepe reiciendis voluptatem adipisci\\...  \n",
      "4  repudiandae veniam quaerat sunt sed\\nalias aut...  \n"
     ]
    }
   ],
   "source": [
    "json_data = pd.read_json ('/Users/sofahanis/Desktop/DI_Bootcamp/Week3/Day2/posts.json')\n",
    "print (json_data.head())\n"
   ]
  },
  {
   "cell_type": "code",
   "execution_count": 21,
   "id": "ff3a6a3f-41b0-4482-afd8-dce971545935",
   "metadata": {},
   "outputs": [
    {
     "data": {
      "text/plain": [
       "0     sunt aut facere repellat provident occaecati e...\n",
       "1                                          qui est esse\n",
       "2     ea molestias quasi exercitationem repellat qui...\n",
       "3                                  eum et est occaecati\n",
       "4                                    nesciunt quas odio\n",
       "                            ...                        \n",
       "95    quaerat velit veniam amet cupiditate aut numqu...\n",
       "96           quas fugiat ut perspiciatis vero provident\n",
       "97                          laboriosam dolor voluptates\n",
       "98    temporibus sit alias delectus eligendi possimu...\n",
       "99                at nam consequatur ea labore ea harum\n",
       "Name: title, Length: 100, dtype: object"
      ]
     },
     "execution_count": 21,
     "metadata": {},
     "output_type": "execute_result"
    }
   ],
   "source": [
    "json_data ['title']"
   ]
  },
  {
   "cell_type": "code",
   "execution_count": 22,
   "id": "0e426714-8613-4f85-a9fc-b69bf6bf12ec",
   "metadata": {},
   "outputs": [
    {
     "data": {
      "text/plain": [
       "0     SUNT AUT FACERE REPELLAT PROVIDENT OCCAECATI E...\n",
       "1                                          QUI EST ESSE\n",
       "2     EA MOLESTIAS QUASI EXERCITATIONEM REPELLAT QUI...\n",
       "3                                  EUM ET EST OCCAECATI\n",
       "4                                    NESCIUNT QUAS ODIO\n",
       "                            ...                        \n",
       "95    QUAERAT VELIT VENIAM AMET CUPIDITATE AUT NUMQU...\n",
       "96           QUAS FUGIAT UT PERSPICIATIS VERO PROVIDENT\n",
       "97                          LABORIOSAM DOLOR VOLUPTATES\n",
       "98    TEMPORIBUS SIT ALIAS DELECTUS ELIGENDI POSSIMU...\n",
       "99                AT NAM CONSEQUATUR EA LABORE EA HARUM\n",
       "Name: title, Length: 100, dtype: object"
      ]
     },
     "execution_count": 22,
     "metadata": {},
     "output_type": "execute_result"
    }
   ],
   "source": [
    "json_data ['title'].str.upper()\n",
    "#upper case"
   ]
  },
  {
   "cell_type": "code",
   "execution_count": 29,
   "id": "39281fa4-41c3-4a50-8199-3ac23e75fda1",
   "metadata": {
    "scrolled": true
   },
   "outputs": [
    {
     "name": "stdout",
     "output_type": "stream",
     "text": [
      "                  Name  Age\n",
      "0      Jennifer Norton   58\n",
      "1       Jeremy Rowland   69\n",
      "2       Alicia Parsons   65\n",
      "3         Vicki Butler   63\n",
      "4          Brian Lopez   40\n",
      "5       Amanda Hoffman   54\n",
      "6        Cody Robinson   38\n",
      "7       Timothy Carter   31\n",
      "8        Alan Williams   41\n",
      "9         Jamie Keller   59\n",
      "10       James Stevens   56\n",
      "11      Jason Martinez   43\n",
      "12   Laura Alvarado MD   66\n",
      "13        Alice Tucker   50\n",
      "14        Andrew Smith   56\n",
      "15        Erica Grimes   28\n",
      "16       Randall Mckee   58\n",
      "17  Margaret Gallagher   21\n",
      "18      Samantha White   23\n",
      "19     Matthew Jimenez   21\n",
      "20        Sean Simmons   22\n",
      "21         Juan Wilson   48\n",
      "22      Debra Gonzalez   44\n",
      "23       Robert Howell   59\n",
      "24          Anna Foley   22\n",
      "25      Darryl Perkins   19\n",
      "26         Renee Lopez   61\n",
      "27       Mary Peterson   45\n",
      "28       Shawn Esparza   65\n",
      "29      Michael Lester   34\n",
      "30         Brian Jones   43\n",
      "31      Rhonda Miranda   58\n",
      "32    Beverly Williams   27\n",
      "33      Marc Hernandez   21\n",
      "34     Ashley Calderon   39\n",
      "35       Richard Hayes   50\n",
      "36           Lisa Cook   51\n",
      "37        William Gill   18\n",
      "38          Ana Chavez   18\n",
      "39     Gabriella Cohen   28\n",
      "40      Laura Anderson   42\n",
      "41    Christopher Cook   27\n",
      "42     Melissa Hammond   34\n",
      "43       Frances Rojas   63\n",
      "44      Susan Robinson   69\n",
      "45     Charlotte James   42\n",
      "46   Mrs. Tammy Bryant   26\n",
      "47       Larry Raymond   40\n",
      "48        Amanda Salas   55\n",
      "49           Jon Poole   58\n"
     ]
    }
   ],
   "source": [
    "import numpy as np\n",
    "from faker import Faker\n",
    "\n",
    "fake = Faker()\n",
    "\n",
    "data = [(fake.name(), np.random.randint(18,70)) for _ in range (100)]\n",
    "\n",
    "randlist = pd.DataFrame (data, columns=['Names', 'Age'])\n",
    "print (randlist.head(50))"
   ]
  },
  {
   "cell_type": "code",
   "execution_count": 33,
   "id": "ea8c8f2b-63e6-4cb2-a934-2305f7d085c3",
   "metadata": {
    "scrolled": true
   },
   "outputs": [
    {
     "name": "stdout",
     "output_type": "stream",
     "text": [
      "    Product  Sale Amount        Date  Customer Age\n",
      "0     every          245  2025-04-05            24\n",
      "1      stay          304  2025-01-16            41\n",
      "2      beat          217  2025-04-15            54\n",
      "3  Democrat           55  2025-05-13            42\n",
      "4     north           50  2025-02-17            45\n"
     ]
    }
   ],
   "source": [
    "import numpy as np\n",
    "from faker import Faker\n",
    "\n",
    "fakes = Faker()\n",
    "\n",
    "#if doing one by one\n",
    "products = [fake.word for _ in range (100)]\n",
    "sales_amount = [np.random.randint(10, 500) for _ in range (100)]\n",
    "date = [fake.date_this_year () for _ in range (100)]\n",
    "age = [np.random.randint(18, 65) for _ in range (100)]\n",
    "\n",
    "#if everything together \n",
    "everything = [(fake.word (), np.random.randint (10, 500), fake.date_this_year (), np.random.randint(18, 65)) for _ in range (100)]\n",
    "randlist = pd.DataFrame (everything, columns = ['Product', 'Sale Amount', 'Date', 'Customer Age'])\n",
    "print (randlist.head())"
   ]
  },
  {
   "cell_type": "code",
   "execution_count": 37,
   "id": "7dc067d0-483d-469a-9dbc-2af618c4548a",
   "metadata": {},
   "outputs": [
    {
     "name": "stdout",
     "output_type": "stream",
     "text": [
      "  Product  Sale Amount        Date  Customer Age\n",
      "0   Skirt           15  2025-01-26            47\n",
      "1    Coat          369  2025-05-11            55\n",
      "2    Coat          110  2025-05-18            59\n",
      "3    Coat           32  2025-04-19            18\n",
      "4   Skirt          434  2025-04-28            53\n"
     ]
    }
   ],
   "source": [
    "import numpy as np\n",
    "from faker import Faker\n",
    "from faker.providers import DynamicProvider\n",
    "fakes = Faker()\n",
    "\n",
    "#to make your own fake provider\n",
    "product_provider = DynamicProvider (\n",
    "    provider_name = \"products\", \n",
    "    elements = [\"Tshirt\", \"Skirt\", \"Jacket\", \"Coat\"])\n",
    "fake.add_provider(product_provider)\n",
    "\n",
    "everything = [(fake.products (), np.random.randint (10, 500), fake.date_this_year (), np.random.randint(18, 65)) for _ in range (100)]\n",
    "randlist = pd.DataFrame (everything, columns = ['Product', 'Sale Amount', 'Date', 'Customer Age'])\n",
    "print (randlist.head())"
   ]
  },
  {
   "cell_type": "code",
   "execution_count": 40,
   "id": "d63ed44d-3118-4e61-adaa-47fa1af93110",
   "metadata": {},
   "outputs": [
    {
     "ename": "ModuleNotFoundError",
     "evalue": "No module named 'tensorflow'",
     "output_type": "error",
     "traceback": [
      "\u001b[0;31m---------------------------------------------------------------------------\u001b[0m",
      "\u001b[0;31mModuleNotFoundError\u001b[0m                       Traceback (most recent call last)",
      "Cell \u001b[0;32mIn[40], line 1\u001b[0m\n\u001b[0;32m----> 1\u001b[0m \u001b[38;5;28;01mfrom\u001b[39;00m \u001b[38;5;21;01mtensorflow\u001b[39;00m\u001b[38;5;21;01m.\u001b[39;00m\u001b[38;5;21;01mkeras\u001b[39;00m\u001b[38;5;21;01m.\u001b[39;00m\u001b[38;5;21;01mpreprocessing\u001b[39;00m\u001b[38;5;21;01m.\u001b[39;00m\u001b[38;5;21;01mimage\u001b[39;00m \u001b[38;5;28;01mimport\u001b[39;00m ImageDataGenerator\n\u001b[1;32m      2\u001b[0m data_generator \u001b[38;5;241m=\u001b[39m ImageDataGenerator(rotation_range\u001b[38;5;241m=\u001b[39m\u001b[38;5;241m20\u001b[39m)\n\u001b[1;32m      4\u001b[0m \u001b[38;5;28;01mfrom\u001b[39;00m \u001b[38;5;21;01mscipy\u001b[39;00m\u001b[38;5;21;01m.\u001b[39;00m\u001b[38;5;21;01mndimage\u001b[39;00m \u001b[38;5;28;01mimport\u001b[39;00m rotate\n",
      "\u001b[0;31mModuleNotFoundError\u001b[0m: No module named 'tensorflow'"
     ]
    }
   ],
   "source": [
    "from tensorflow.keras.preprocessing.image import ImageDataGenerator\n",
    "data_generator = ImageDataGenerator(rotation_range=20)\n",
    "\n",
    "from scipy.ndimage import rotate\n",
    "def rotate_image_30_degrees(image):\n",
    "    return rotate(image, 30, reshape=False, mode='nearest')\n",
    "data_generator = ImageDataGenerator(preprocessing_function=rotate_image_30_degrees)"
   ]
  },
  {
   "cell_type": "code",
   "execution_count": null,
   "id": "e75f0275-373f-4112-91c6-dd104cbdf22c",
   "metadata": {},
   "outputs": [],
   "source": []
  }
 ],
 "metadata": {
  "kernelspec": {
   "display_name": "Python [conda env:base] *",
   "language": "python",
   "name": "conda-base-py"
  },
  "language_info": {
   "codemirror_mode": {
    "name": "ipython",
    "version": 3
   },
   "file_extension": ".py",
   "mimetype": "text/x-python",
   "name": "python",
   "nbconvert_exporter": "python",
   "pygments_lexer": "ipython3",
   "version": "3.12.7"
  }
 },
 "nbformat": 4,
 "nbformat_minor": 5
}
