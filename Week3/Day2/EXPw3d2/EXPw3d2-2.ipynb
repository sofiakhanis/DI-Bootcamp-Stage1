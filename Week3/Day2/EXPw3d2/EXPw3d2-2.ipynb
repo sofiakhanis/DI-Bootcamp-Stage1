{
 "cells": [
  {
   "cell_type": "code",
   "execution_count": null,
   "id": "736fb51c-8b1f-4943-aab4-7e5b3142b2e2",
   "metadata": {},
   "outputs": [],
   "source": [
    "#exercise 1\n",
    "\n",
    "#A company’s financial reports stored in an Excel file. - structured\n",
    "#Photographs uploaded to a social media platform. - unstructured \n",
    "#A collection of news articles on a website. - semi-structured if there are dates or categories of the articles \n",
    "#Inventory data in a relational database. - structured\n",
    "#Recorded interviews from a market research study. - unstructured"
   ]
  },
  {
   "cell_type": "code",
   "execution_count": null,
   "id": "bd020a9d-e940-4936-8f60-0279cbd52285",
   "metadata": {},
   "outputs": [],
   "source": [
    "#exercise 2\n",
    "\n",
    "#1. A series of blog posts about travel experiences. \n",
    "\n",
    "#To make this data more structured, we can use NLP techniques, like: text parsing (to split posts into smaller sections), named entity recognition (to detect locations, names etc that can be useful) and sentiment analysis (to understand the tone of the posts).\n",
    "#Columns can be this way: \"Author\", \"Date\", \"Country visited\", \"Activities\", \"Level of liking\".\n",
    "\n",
    "#2. Audio recordings of customer service calls.\n",
    "\n",
    "#For call recordings can be used: transcription (to convert spoken words into text), sentiment analysis (to understand the level of satisfaction of the customer), AI-powered tools (to help with summarizing).\n",
    "#Columns for the database: \"Agent's name\", \"Client's name\", \"Product's category\", \"Main Issue\", \"Solved/Not solved\", \"Level of customer's satisfaction\", \"Date\".\n",
    "\n",
    "#3. Handwritten notes from a brainstorming session.\n",
    "\n",
    "#Tools: Optical Character Recognition (to convert handwritten text into digital), grammar checking, categorizing.\n",
    "#Columns for database: \"Note ID\", \"Date\", \"Session theme\", \"Idea\", \"Asigned to\", \"Priority\"\n",
    "\n",
    "#4. A video tutorial on cooking.\n",
    "\n",
    "#Tools: Video-to-text conversion (to create text based on tutorial), object detection for visual elements.\n",
    "#Columns: \"Step Number\", \"Instruction\", \"Ingredient\", \"Tool\", \"Time\", \"Temperature\"\n"
   ]
  },
  {
   "cell_type": "code",
   "execution_count": 21,
   "id": "42f0603c-3be2-4ae0-b518-64d083a98fdd",
   "metadata": {},
   "outputs": [
    {
     "name": "stdout",
     "output_type": "stream",
     "text": [
      "   PassengerId  Survived  Pclass  \\\n",
      "0            1         0       3   \n",
      "1            2         1       1   \n",
      "2            3         1       3   \n",
      "3            4         1       1   \n",
      "4            5         0       3   \n",
      "\n",
      "                                                Name     Sex   Age  SibSp  \\\n",
      "0                            Braund, Mr. Owen Harris    male  22.0      1   \n",
      "1  Cumings, Mrs. John Bradley (Florence Briggs Th...  female  38.0      1   \n",
      "2                             Heikkinen, Miss. Laina  female  26.0      0   \n",
      "3       Futrelle, Mrs. Jacques Heath (Lily May Peel)  female  35.0      1   \n",
      "4                           Allen, Mr. William Henry    male  35.0      0   \n",
      "\n",
      "   Parch            Ticket     Fare Cabin Embarked  \n",
      "0      0         A/5 21171   7.2500   NaN        S  \n",
      "1      0          PC 17599  71.2833   C85        C  \n",
      "2      0  STON/O2. 3101282   7.9250   NaN        S  \n",
      "3      0            113803  53.1000  C123        S  \n",
      "4      0            373450   8.0500   NaN        S  \n"
     ]
    }
   ],
   "source": [
    "import pandas as pd\n",
    "\n",
    "data = pd.read_csv ('/Users/sofahanis/Desktop/DI_Bootcamp/Week3/Day2/EXPw3d2/train.csv')\n",
    "print(data.head())"
   ]
  },
  {
   "cell_type": "code",
   "execution_count": 20,
   "id": "b7d496f7-88b0-4008-a1a7-85beb6202ddd",
   "metadata": {},
   "outputs": [
    {
     "name": "stdout",
     "output_type": "stream",
     "text": [
      "   5.1  3.5  1.4  0.2  Iris-setosa\n",
      "0  4.9  3.0  1.4  0.2  Iris-setosa\n",
      "1  4.7  3.2  1.3  0.2  Iris-setosa\n",
      "2  4.6  3.1  1.5  0.2  Iris-setosa\n",
      "3  5.0  3.6  1.4  0.2  Iris-setosa\n",
      "4  5.4  3.9  1.7  0.4  Iris-setosa\n"
     ]
    }
   ],
   "source": [
    "iris = pd.read_csv ('/Users/sofahanis/Desktop/DI_Bootcamp/Week3/Day2/EXPw3d2/Iris_dataset_2.csv')\n",
    "print(iris.head())"
   ]
  },
  {
   "cell_type": "code",
   "execution_count": 17,
   "id": "0148393c-30fa-4e53-b3ab-b28785fddec5",
   "metadata": {},
   "outputs": [],
   "source": [
    "simple_df = {\n",
    "    \"Character\" : [\"Lisa\", \"Bart\", \"Jackson\"],\n",
    "    \"Age\" : [16, 18, 20],\n",
    "    \"Server\" : [\"Asia\", \"Europe\", \"USA\"]\n",
    "}\n",
    "char = pd.DataFrame(simple_df)\n",
    "\n",
    "char.to_excel ('charact.xlsx', index = False)"
   ]
  },
  {
   "cell_type": "code",
   "execution_count": 18,
   "id": "c08dfefb-8866-4618-b562-511487fe29a6",
   "metadata": {},
   "outputs": [],
   "source": [
    "char.to_json ('char.json')"
   ]
  },
  {
   "cell_type": "code",
   "execution_count": 19,
   "id": "295e3c7f-855f-49fc-bb80-09d251669fa6",
   "metadata": {},
   "outputs": [
    {
     "data": {
      "text/html": [
       "<div>\n",
       "<style scoped>\n",
       "    .dataframe tbody tr th:only-of-type {\n",
       "        vertical-align: middle;\n",
       "    }\n",
       "\n",
       "    .dataframe tbody tr th {\n",
       "        vertical-align: top;\n",
       "    }\n",
       "\n",
       "    .dataframe thead th {\n",
       "        text-align: right;\n",
       "    }\n",
       "</style>\n",
       "<table border=\"1\" class=\"dataframe\">\n",
       "  <thead>\n",
       "    <tr style=\"text-align: right;\">\n",
       "      <th></th>\n",
       "      <th>userId</th>\n",
       "      <th>id</th>\n",
       "      <th>title</th>\n",
       "      <th>body</th>\n",
       "    </tr>\n",
       "  </thead>\n",
       "  <tbody>\n",
       "    <tr>\n",
       "      <th>0</th>\n",
       "      <td>1</td>\n",
       "      <td>1</td>\n",
       "      <td>sunt aut facere repellat provident occaecati e...</td>\n",
       "      <td>quia et suscipit\\nsuscipit recusandae consequu...</td>\n",
       "    </tr>\n",
       "    <tr>\n",
       "      <th>1</th>\n",
       "      <td>1</td>\n",
       "      <td>2</td>\n",
       "      <td>qui est esse</td>\n",
       "      <td>est rerum tempore vitae\\nsequi sint nihil repr...</td>\n",
       "    </tr>\n",
       "    <tr>\n",
       "      <th>2</th>\n",
       "      <td>1</td>\n",
       "      <td>3</td>\n",
       "      <td>ea molestias quasi exercitationem repellat qui...</td>\n",
       "      <td>et iusto sed quo iure\\nvoluptatem occaecati om...</td>\n",
       "    </tr>\n",
       "    <tr>\n",
       "      <th>3</th>\n",
       "      <td>1</td>\n",
       "      <td>4</td>\n",
       "      <td>eum et est occaecati</td>\n",
       "      <td>ullam et saepe reiciendis voluptatem adipisci\\...</td>\n",
       "    </tr>\n",
       "    <tr>\n",
       "      <th>4</th>\n",
       "      <td>1</td>\n",
       "      <td>5</td>\n",
       "      <td>nesciunt quas odio</td>\n",
       "      <td>repudiandae veniam quaerat sunt sed\\nalias aut...</td>\n",
       "    </tr>\n",
       "  </tbody>\n",
       "</table>\n",
       "</div>"
      ],
      "text/plain": [
       "   userId  id                                              title  \\\n",
       "0       1   1  sunt aut facere repellat provident occaecati e...   \n",
       "1       1   2                                       qui est esse   \n",
       "2       1   3  ea molestias quasi exercitationem repellat qui...   \n",
       "3       1   4                               eum et est occaecati   \n",
       "4       1   5                                 nesciunt quas odio   \n",
       "\n",
       "                                                body  \n",
       "0  quia et suscipit\\nsuscipit recusandae consequu...  \n",
       "1  est rerum tempore vitae\\nsequi sint nihil repr...  \n",
       "2  et iusto sed quo iure\\nvoluptatem occaecati om...  \n",
       "3  ullam et saepe reiciendis voluptatem adipisci\\...  \n",
       "4  repudiandae veniam quaerat sunt sed\\nalias aut...  "
      ]
     },
     "metadata": {},
     "output_type": "display_data"
    }
   ],
   "source": [
    "file = pd.read_json ('Desktop/DI_Bootcamp/Week3/Day2/EXPw3d2/posts 2.json')\n",
    "display(file.head())"
   ]
  },
  {
   "cell_type": "code",
   "execution_count": null,
   "id": "56c698cd-31cd-4665-b9ab-fe907576026e",
   "metadata": {},
   "outputs": [],
   "source": []
  }
 ],
 "metadata": {
  "kernelspec": {
   "display_name": "Python [conda env:base] *",
   "language": "python",
   "name": "conda-base-py"
  },
  "language_info": {
   "codemirror_mode": {
    "name": "ipython",
    "version": 3
   },
   "file_extension": ".py",
   "mimetype": "text/x-python",
   "name": "python",
   "nbconvert_exporter": "python",
   "pygments_lexer": "ipython3",
   "version": "3.12.7"
  }
 },
 "nbformat": 4,
 "nbformat_minor": 5
}
